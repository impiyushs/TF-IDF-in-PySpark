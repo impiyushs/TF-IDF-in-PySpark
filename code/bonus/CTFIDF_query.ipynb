{
  "nbformat": 4,
  "nbformat_minor": 0,
  "metadata": {
    "colab": {
      "name": "CTFIDF_query.ipynb",
      "provenance": [],
      "collapsed_sections": []
    },
    "kernelspec": {
      "name": "python3",
      "display_name": "Python 3"
    },
    "language_info": {
      "name": "python"
    }
  },
  "cells": [
    {
      "cell_type": "code",
      "metadata": {
        "colab": {
          "base_uri": "https://localhost:8080/"
        },
        "id": "ze8ySCkZUF2N",
        "outputId": "16ade14d-97f9-4a3c-c991-f0e65e4c2d10"
      },
      "source": [
        "import sys\n",
        "import re\n",
        "import math\n",
        "from collections import Counter\n",
        "!pip install pyspark\n",
        "from pyspark import SparkContext, SparkConf\n",
        "from random import randint\n",
        "import shutil\n",
        "# shutil.rmtree('')\n",
        "# !unzip TF_index.zip\n",
        "conf = SparkConf()\n",
        "conf.setMaster('local')\n",
        "conf.setAppName('TF/IDF')\n",
        "sc = SparkContext.getOrCreate(conf=conf)"
      ],
      "execution_count": 6,
      "outputs": [
        {
          "output_type": "stream",
          "text": [
            "Requirement already satisfied: pyspark in /usr/local/lib/python3.7/dist-packages (3.1.1)\n",
            "Requirement already satisfied: py4j==0.10.9 in /usr/local/lib/python3.7/dist-packages (from pyspark) (0.10.9)\n"
          ],
          "name": "stdout"
        }
      ]
    },
    {
      "cell_type": "code",
      "metadata": {
        "id": "GK0Dfst2TueI"
      },
      "source": [
        "# Read CTF_index\n",
        "# a. Retrieve cosine normalized vector of the query words from CTF_index\n",
        "def st_to_dict(line):\n",
        "  line = line.split(\"@\")\n",
        "  line1 = line[1].split(\"+\")\n",
        "  return (line[0], line[1])\n",
        "dataFile = 'CTFIDF_index'\n",
        "# create RDDS, read stopwords file\n",
        "stopWordFile ='stopwords-en.txt'\n",
        "tf_RDD = sc.textFile(dataFile)\n",
        "# tf_RDD.take(10)\n",
        "\n",
        "tf_RDD1 = tf_RDD.map(st_to_dict)\n",
        "# tf_RDD1.take(10)\n",
        "\n",
        "# Calculate N (document size)\n",
        "countRDD2=tf_RDD1.flatMap(lambda x: x[1].split('+'))\n",
        "countRDD2=countRDD2.map(lambda x: (x.split('#')[0],x.split('#')[1]))\n",
        "countRDD = countRDD2.map(lambda x: x).keys().distinct()\n",
        "N = countRDD.count()\n",
        "# print(N)"
      ],
      "execution_count": 24,
      "outputs": []
    },
    {
      "cell_type": "code",
      "metadata": {
        "id": "Ow4qLss9tSK5"
      },
      "source": [
        "############## Pre process\n",
        "\n",
        "# Remove punctutaion function\n",
        "\n",
        "def lower_clean_str(x):\n",
        "  punc='!\"#$%&\\'()*+,;=?@[]^_`{|}~-'\n",
        "  # punc='!\"#$%&\\'()*+,./:;<=>?@[\\\\]^_`{|}~-'\n",
        "  lowercased_str = x.lower()\n",
        "  for ch in punc:\n",
        "    lowercased_str = lowercased_str.replace(ch, ' ')\n",
        "    lowercased_str = ' '.join(lowercased_str.split())\n",
        "  return lowercased_str\n",
        "\n",
        "def lower_clean_str2(x):\n",
        "  # punc='!\"#$%&\\'()*+,;=?@[]^_`{|}~-'\n",
        "  punc='!\"#$%&\\'()*+,./:;<=>?@[\\\\]^_`{|}~-'\n",
        "  lowercased_str = x.lower()\n",
        "  for ch in punc:\n",
        "    lowercased_str = lowercased_str.replace(ch, ' ')\n",
        "    lowercased_str = ' '.join(lowercased_str.split())\n",
        "  return lowercased_str\n",
        "\n",
        "\n",
        "def remove_urls_tags(x):\n",
        "  regex = r\"(?i)\\b((?:https?://|www\\d{0,3}[.]|[a-z0-9.\\-]+[.][a-z]{2,4}/)(?:[^\\s()<>]+|\\(([^\\s()<>]+|(\\([^\\s()<>]+\\)))*\\))+(?:\\(([^\\s()<>]+|(\\([^\\s()<>]+\\)))*\\)|[^\\s`!()\\[\\]{};:'\\\".,<>?«»“”‘’]))\"\n",
        "  url_str = re.sub(regex, \" \", x)\n",
        "  html_regex = r\"<.*?>\"\n",
        "  finalStr = re.sub(html_regex, \" \", url_str)\n",
        "  return finalStr\n",
        "\n",
        "# Remove stop words function\n",
        "def remove_stop_words(stri):\n",
        "  with open(stopWordFile,'r') as stop:\n",
        "    stop_w = stop.read()\n",
        "    #splitting stopwords.txt by new line\n",
        "    stop_list = re.split('\\n', stop_w)\n",
        "    for word in stop_list:\n",
        "        if word in stri:\n",
        "            stri = stri.replace(\" \"+ word + \" \", \" \")\n",
        "    return stri\n",
        "\n",
        "# Preprocess function\n",
        "def pre_process(fileRDD):\n",
        "  #Run remove punctuation function on data\n",
        "  fileRDD = fileRDD.map(lower_clean_str)\n",
        "  # Remove url_tags\n",
        "  fileRDD = fileRDD.map(remove_urls_tags)\n",
        "  fileRDD = fileRDD.map(lower_clean_str2)\n",
        "  #Remove stop words\n",
        "  fileRDD1 = fileRDD.map(remove_stop_words)\n",
        "  fileRDD1 = fileRDD1.map(lambda line : line.strip())\n",
        "  return fileRDD1"
      ],
      "execution_count": 25,
      "outputs": []
    },
    {
      "cell_type": "code",
      "metadata": {
        "colab": {
          "base_uri": "https://localhost:8080/"
        },
        "id": "M-enlaKkxEdM",
        "outputId": "e4abcb7e-7a54-43a8-ba67-16365c608297"
      },
      "source": [
        "qids=set()\n",
        "# boolean variable for while check\n",
        "if_query=True\n",
        "\n",
        "#while incoming queries\n",
        "while(if_query):\n",
        "  #user submits a query\n",
        "  qry=input(\"Enter Query\")\n",
        "  a = True\n",
        "  # Generate randome qID\n",
        "  while(a):\n",
        "     qID=0\n",
        "     _id=randint(100,999)\n",
        "     if _id not in qids:\n",
        "        qids.add(_id)\n",
        "        a=False\n",
        "        qID=_id\n",
        "  #convert query to RDD\n",
        "  rdd = sc.parallelize([qry])\n",
        "  # all text pre-processing, given in Step-1\n",
        "  prdqry=pre_process(rdd)\n",
        "  prd1 = prdqry.collect()\n",
        "  prd1 = prd1[0].split(\" \")\n",
        "  # Filter the RDD such that  contains only words that are present in the given query\n",
        "  prd2=tf_RDD1.filter(lambda x: str(x[0]) in prd1)\n",
        "  prd3=prd2.map(lambda x:x[1])\n",
        "  prd4=prd3.flatMap(lambda y:y.split('+'))\n",
        "  #  Function to break tuple\n",
        "  def break_tup(tp):\n",
        "    li = tp.split(\"#\")\n",
        "    return (li[0], float(li[1]))\n",
        "  # Now transform the RDD so that it will be of format: (doc. ID, freq)\n",
        "  prd5 = prd4.map(break_tup)\n",
        "  # For each doc. ID, sum all freq values. Now we have single score for each valid doc. ID\n",
        "  # Sort the RDD by value in decreasing order\n",
        "  writeRDD = prd5.reduceByKey(lambda a,b: a+b).sortBy(lambda a: a[1],ascending=False).map(lambda x : x[0]).take(10)\n",
        "  writeRDD=sc.parallelize(writeRDD)\n",
        "  # results into a directory named qID\n",
        "  writeRDD.saveAsTextFile(str(qID))\n",
        "  #  Continue queries ?\n",
        "  nextQR=input('Continue ? Enter Y or N')\n",
        "  if_query = True if (nextQR==\"Y\" or nextQR==\"y\") else False"
      ],
      "execution_count": 26,
      "outputs": [
        {
          "output_type": "stream",
          "text": [
            "Enter Query sample text\n",
            "Continue ? Enter Y or Nn\n"
          ],
          "name": "stdout"
        }
      ]
    }
  ]
}