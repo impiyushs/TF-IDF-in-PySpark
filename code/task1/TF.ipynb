{
  "nbformat": 4,
  "nbformat_minor": 0,
  "metadata": {
    "colab": {
      "name": "TF.ipynb",
      "provenance": []
    },
    "kernelspec": {
      "name": "python3",
      "display_name": "Python 3"
    },
    "language_info": {
      "name": "python"
    }
  },
  "cells": [
    {
      "cell_type": "code",
      "metadata": {
        "id": "kDuI8EwJq_66",
        "colab": {
          "base_uri": "https://localhost:8080/"
        },
        "outputId": "aad9721f-e4c0-44d0-876f-f330b617f165"
      },
      "source": [
        "import sys\n",
        "import shutil\n",
        "import re\n",
        "import math\n",
        "from collections import Counter\n",
        "# shutil.rmtree('TF_index')\n",
        "# !zip -r TF_index.zip TF_index\n",
        "!pip install pyspark\n",
        "from pyspark import SparkContext, SparkConf\n",
        "\n",
        "# create Spark context with necessary configuration\n",
        "conf = SparkConf()\n",
        "conf.setMaster('local')\n",
        "conf.setAppName('TF/IDF')\n",
        "sc = SparkContext.getOrCreate(conf=conf)"
      ],
      "execution_count": 20,
      "outputs": [
        {
          "output_type": "stream",
          "text": [
            "Requirement already satisfied: pyspark in /usr/local/lib/python3.7/dist-packages (3.1.1)\n",
            "Requirement already satisfied: py4j==0.10.9 in /usr/local/lib/python3.7/dist-packages (from pyspark) (0.10.9)\n"
          ],
          "name": "stdout"
        }
      ]
    },
    {
      "cell_type": "code",
      "metadata": {
        "id": "m3wRJSBNxedB"
      },
      "source": [
        "# read data\n",
        "# Edit file name to give your input data\n",
        "dataFile = '2.txt'\n",
        "stopWordFile = 'stopwords-en.txt'\n",
        "# create RDDS, read stopwords file\n",
        "fileRDD = sc.textFile(dataFile)\n"
      ],
      "execution_count": 23,
      "outputs": []
    },
    {
      "cell_type": "code",
      "metadata": {
        "id": "Gk-0ytxepXL-"
      },
      "source": [
        "# Remove punctutaion function\n",
        "\n",
        "def lower_clean_str(x):\n",
        "  punc='!\"#$%&\\'()*+,;=?@[]^_`{|}~-'\n",
        "  # punc='!\"#$%&\\'()*+,./:;<=>?@[\\\\]^_`{|}~-'\n",
        "  lowercased_str = x.lower()\n",
        "  for ch in punc:\n",
        "    lowercased_str = lowercased_str.replace(ch, ' ')\n",
        "    lowercased_str = ' '.join(lowercased_str.split())\n",
        "  return lowercased_str\n",
        "def lower_clean_str1(x):\n",
        "  # punc='!\"#$%&\\'()*+,;=?@[]^_`{|}~-'\n",
        "  punc='!\"#$%&\\'()*+,./:;<=>?@[\\\\]^_`{|}~-'\n",
        "  lowercased_str = x.lower()\n",
        "  for ch in punc:\n",
        "    lowercased_str = lowercased_str.replace(ch, ' ')\n",
        "    lowercased_str = ' '.join(lowercased_str.split())\n",
        "  return lowercased_str\n",
        "\n",
        "#Run remove punctuation function on data\n",
        "fileRDD = sc.textFile(dataFile)\n",
        "fileRDD = fileRDD.map(lower_clean_str)\n"
      ],
      "execution_count": 24,
      "outputs": []
    },
    {
      "cell_type": "code",
      "metadata": {
        "id": "sl4JTP3DqLTe"
      },
      "source": [
        "# Remove urls\n",
        "def remove_urls_tags(x):\n",
        "  regex = r\"(?i)\\b((?:https?://|www\\d{0,3}[.]|[a-z0-9.\\-]+[.][a-z]{2,4}/)(?:[^\\s()<>]+|\\(([^\\s()<>]+|(\\([^\\s()<>]+\\)))*\\))+(?:\\(([^\\s()<>]+|(\\([^\\s()<>]+\\)))*\\)|[^\\s`!()\\[\\]{};:'\\\".,<>?«»“”‘’]))\"\n",
        "  # regex = 'https?://(?:[-\\w.]|(?:%[\\da-fA-F]{2}))+'\n",
        "  url_str = re.sub(regex, \" \", x)\n",
        "  html_regex = r\"<.*?>\"\n",
        "  finalStr = re.sub(html_regex, \" \", url_str)\n",
        "  return finalStr\n",
        "\n",
        "fileRDD = fileRDD.map(remove_urls_tags)\n",
        "fileRDD = fileRDD.map(lower_clean_str1)\n"
      ],
      "execution_count": 25,
      "outputs": []
    },
    {
      "cell_type": "code",
      "metadata": {
        "id": "lhOCrxhW_gWU"
      },
      "source": [
        "# Remove stop words function\n",
        "def remove_stop_words(stri):\n",
        "  with open(stopWordFile,'r') as stop:\n",
        "    stop_w = stop.read()\n",
        "    #splitting stopwords.txt by new line\n",
        "    stop_list = re.split('\\n', stop_w)\n",
        "    for word in stop_list:\n",
        "        if word in stri:\n",
        "            stri = stri.replace(\" \"+ word + \" \", \" \")\n",
        "    return stri\n",
        "\n",
        "fileRDD1 = fileRDD.map(remove_stop_words)\n",
        "fileRDD1 = fileRDD1.map(lambda line : line.strip())\n"
      ],
      "execution_count": 26,
      "outputs": []
    },
    {
      "cell_type": "code",
      "metadata": {
        "id": "_6vM3CfAso-E"
      },
      "source": [
        "# split file\n",
        "def split_file(line):\n",
        "    spl = line.split(\" \", 1)\n",
        "    return (spl[0], spl[1])\n",
        "dfRDD = fileRDD1.map(split_file)"
      ],
      "execution_count": 27,
      "outputs": []
    },
    {
      "cell_type": "code",
      "metadata": {
        "id": "oVzWzUs-8Ast"
      },
      "source": [
        "# construct the above RDD into:\n",
        "# word@doc-1#freq+doc-2#freq+doc-3#freq+...\n",
        "def tf_construct(line):\n",
        "    res = []\n",
        "    skip = ['']\n",
        "    words = [word for word in line[1].split(\" \") if word not in ['']]\n",
        "    counter  = Counter(words)\n",
        "    result = [(k, (str(line[0]) + \"#\"+ str(1+math.log10(v)))) for k, v in counter.items()] \n",
        "    return result\n",
        "\n",
        "tf = dfRDD.flatMap(tf_construct)\n",
        "tfReduce = tf.groupByKey().map(lambda x : (x[0]+\"@\"+\"+\".join(list(x[1]))))\n"
      ],
      "execution_count": 29,
      "outputs": []
    },
    {
      "cell_type": "code",
      "metadata": {
        "id": "1wATd7X30mWh"
      },
      "source": [
        "####################### step 2 output. Write this RDD to TF_index directory.\n",
        "tfReduce.saveAsTextFile('TF_index')"
      ],
      "execution_count": 12,
      "outputs": []
    }
  ]
}