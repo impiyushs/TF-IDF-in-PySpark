{
  "nbformat": 4,
  "nbformat_minor": 0,
  "metadata": {
    "colab": {
      "name": "TF_query.ipynb",
      "provenance": [],
      "collapsed_sections": []
    },
    "kernelspec": {
      "name": "python3",
      "display_name": "Python 3"
    },
    "language_info": {
      "name": "python"
    }
  },
  "cells": [
    {
      "cell_type": "code",
      "metadata": {
        "colab": {
          "base_uri": "https://localhost:8080/"
        },
        "id": "ze8ySCkZUF2N",
        "outputId": "7b5f7b8f-fadb-4d52-ee95-4f3936f0de06"
      },
      "source": [
        "import sys\n",
        "import re\n",
        "from collections import Counter\n",
        "!pip install pyspark\n",
        "from pyspark import SparkContext, SparkConf\n",
        "from random import randint\n",
        "import shutil\n",
        "# shutil.rmtree('')\n",
        "# !unzip TF_index.zip\n",
        "conf = SparkConf()\n",
        "conf.setMaster('local')\n",
        "conf.setAppName('TF/IDF')\n",
        "sc = SparkContext.getOrCreate(conf=conf)"
      ],
      "execution_count": 1,
      "outputs": [
        {
          "output_type": "stream",
          "text": [
            "Collecting pyspark\n",
            "\u001b[?25l  Downloading https://files.pythonhosted.org/packages/45/b0/9d6860891ab14a39d4bddf80ba26ce51c2f9dc4805e5c6978ac0472c120a/pyspark-3.1.1.tar.gz (212.3MB)\n",
            "\u001b[K     |████████████████████████████████| 212.3MB 55kB/s \n",
            "\u001b[?25hCollecting py4j==0.10.9\n",
            "\u001b[?25l  Downloading https://files.pythonhosted.org/packages/9e/b6/6a4fb90cd235dc8e265a6a2067f2a2c99f0d91787f06aca4bcf7c23f3f80/py4j-0.10.9-py2.py3-none-any.whl (198kB)\n",
            "\u001b[K     |████████████████████████████████| 204kB 17.4MB/s \n",
            "\u001b[?25hBuilding wheels for collected packages: pyspark\n",
            "  Building wheel for pyspark (setup.py) ... \u001b[?25l\u001b[?25hdone\n",
            "  Created wheel for pyspark: filename=pyspark-3.1.1-py2.py3-none-any.whl size=212767604 sha256=92dd6a20115fb056c9d7072b8c84eedf8e46b838331c8daf1269282ca1f5f137\n",
            "  Stored in directory: /root/.cache/pip/wheels/0b/90/c0/01de724414ef122bd05f056541fb6a0ecf47c7ca655f8b3c0f\n",
            "Successfully built pyspark\n",
            "Installing collected packages: py4j, pyspark\n",
            "Successfully installed py4j-0.10.9 pyspark-3.1.1\n"
          ],
          "name": "stdout"
        }
      ]
    },
    {
      "cell_type": "code",
      "metadata": {
        "id": "GK0Dfst2TueI"
      },
      "source": [
        "# Read TF_index\n",
        "def st_to_dict(line):\n",
        "  line = line.split(\"@\")\n",
        "  line1 = line[1].split(\"+\")\n",
        "  return (line[0], line[1])\n",
        "\n",
        "# read data\n",
        "# Edit file name to give your input data\n",
        "dataFile = 'TF_index'\n",
        "# create RDDS, read stopwords file\n",
        "stopWordFile ='stopwords-en.txt'\n",
        "tf_RDD = sc.textFile(dataFile)\n",
        "\n",
        "tf_RDD1 = tf_RDD.map(st_to_dict)"
      ],
      "execution_count": 3,
      "outputs": []
    },
    {
      "cell_type": "code",
      "metadata": {
        "id": "Ow4qLss9tSK5"
      },
      "source": [
        "############## Pre process\n",
        "\n",
        "# Remove punctutaion function\n",
        "\n",
        "def lower_clean_str(x):\n",
        "  punc='!\"#$%&\\'()*+,;=?@[]^_`{|}~-'\n",
        "  # punc='!\"#$%&\\'()*+,./:;<=>?@[\\\\]^_`{|}~-'\n",
        "  lowercased_str = x.lower()\n",
        "  for ch in punc:\n",
        "    lowercased_str = lowercased_str.replace(ch, ' ')\n",
        "    lowercased_str = ' '.join(lowercased_str.split())\n",
        "  return lowercased_str\n",
        "\n",
        "def lower_clean_str2(x):\n",
        "  # punc='!\"#$%&\\'()*+,;=?@[]^_`{|}~-'\n",
        "  punc='!\"#$%&\\'()*+,./:;<=>?@[\\\\]^_`{|}~-'\n",
        "  lowercased_str = x.lower()\n",
        "  for ch in punc:\n",
        "    lowercased_str = lowercased_str.replace(ch, ' ')\n",
        "    lowercased_str = ' '.join(lowercased_str.split())\n",
        "  return lowercased_str\n",
        "\n",
        "\n",
        "def remove_urls_tags(x):\n",
        "  regex = r\"(?i)\\b((?:https?://|www\\d{0,3}[.]|[a-z0-9.\\-]+[.][a-z]{2,4}/)(?:[^\\s()<>]+|\\(([^\\s()<>]+|(\\([^\\s()<>]+\\)))*\\))+(?:\\(([^\\s()<>]+|(\\([^\\s()<>]+\\)))*\\)|[^\\s`!()\\[\\]{};:'\\\".,<>?«»“”‘’]))\"\n",
        "  url_str = re.sub(regex, \" \", x)\n",
        "  html_regex = r\"<.*?>\"\n",
        "  finalStr = re.sub(html_regex, \" \", url_str)\n",
        "  return finalStr\n",
        "\n",
        "# Remove stop words function\n",
        "def remove_stop_words(stri):\n",
        "  with open(stopWordFile,'r') as stop:\n",
        "    stop_w = stop.read()\n",
        "    #splitting stopwords.txt by new line\n",
        "    stop_list = re.split('\\n', stop_w)\n",
        "    for word in stop_list:\n",
        "        if word in stri:\n",
        "            stri = stri.replace(\" \"+ word + \" \", \" \")\n",
        "    return stri\n",
        "\n",
        "# Preprocess function\n",
        "def pre_process(fileRDD):\n",
        "  #Run remove punctuation function on data\n",
        "  fileRDD = fileRDD.map(lower_clean_str)\n",
        "  # Remove url_tags\n",
        "  fileRDD = fileRDD.map(remove_urls_tags)\n",
        "  fileRDD = fileRDD.map(lower_clean_str2)\n",
        "  #Remove stop words\n",
        "  fileRDD1 = fileRDD.map(remove_stop_words)\n",
        "  fileRDD1 = fileRDD1.map(lambda line : line.strip())\n",
        "  return fileRDD1"
      ],
      "execution_count": 4,
      "outputs": []
    },
    {
      "cell_type": "code",
      "metadata": {
        "colab": {
          "base_uri": "https://localhost:8080/"
        },
        "id": "N2i79XyisxFj",
        "outputId": "3010f7d1-82f2-435a-93e6-3067827ff068"
      },
      "source": [
        "qids=set()\n",
        "# boolean variable for while check\n",
        "if_query=True\n",
        "\n",
        "#while incoming queries\n",
        "while(if_query):\n",
        "  #user submits a query\n",
        "  qry=input(\"Enter Query\")\n",
        "  a = True\n",
        "  # Generate randome qID\n",
        "  while(a):\n",
        "     qID=0\n",
        "     _id=randint(100,999)\n",
        "     if _id not in qids:\n",
        "        qids.add(_id)\n",
        "        a=False\n",
        "        qID=_id\n",
        "  #convert query to RDD\n",
        "  rdd = sc.parallelize([qry])\n",
        "  # all text pre-processing, given in Step-1\n",
        "  prdqry=pre_process(rdd)\n",
        "  prd1 = prdqry.collect()\n",
        "  prd1 = prd1[0].split(\" \")\n",
        "  # Filter the RDD such that  contains only words that are present in the given query\n",
        "  prd2=tf_RDD1.filter(lambda x: str(x[0]) in prd1)\n",
        "  prd3=prd2.map(lambda x:x[1])\n",
        "  prd4=prd3.flatMap(lambda y:y.split('+'))\n",
        "  #  Function to break tuple\n",
        "  def break_tup(tp):\n",
        "    li = tp.split(\"#\")\n",
        "    return (li[0], float(li[1]))\n",
        "  # Now transform the RDD so that it will be of format: (doc. ID, freq)\n",
        "  prd5 = prd4.map(break_tup)\n",
        "  # For each doc. ID, sum all freq values. Now we have single weight for each valid doc. ID\n",
        "  prd5=prd5.reduceByKey(lambda x,y:x+y)\n",
        "  # For each doc. ID, sum all freq values. Now we have single score for each valid doc. ID\n",
        "  # Sort the RDD by value in decreasing order\n",
        "  writeRDD = prd5.reduceByKey(lambda a,b: a+b).sortBy(lambda a: a[1],ascending=False).map(lambda x : x[0]).take(10)\n",
        "  writeRDD=sc.parallelize(writeRDD)\n",
        "  # results into a directory named qID\n",
        "  writeRDD.saveAsTextFile(str(qID))\n",
        "  #  Continue queries ?\n",
        "  nextQR=input('Continue ? Enter Y or N')\n",
        "  if_query = True if (nextQR==\"Y\" or nextQR==\"y\") else False"
      ],
      "execution_count": 7,
      "outputs": [
        {
          "output_type": "stream",
          "text": [
            "Enter Querysample text\n",
            "Continue ? Enter Y or NN\n"
          ],
          "name": "stdout"
        }
      ]
    }
  ]
}