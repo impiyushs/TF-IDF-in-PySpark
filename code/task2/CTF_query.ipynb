{
  "nbformat": 4,
  "nbformat_minor": 0,
  "metadata": {
    "colab": {
      "name": "CTF_query.ipynb",
      "provenance": [],
      "collapsed_sections": []
    },
    "kernelspec": {
      "name": "python3",
      "display_name": "Python 3"
    },
    "language_info": {
      "name": "python"
    }
  },
  "cells": [
    {
      "cell_type": "code",
      "metadata": {
        "colab": {
          "base_uri": "https://localhost:8080/"
        },
        "id": "ze8ySCkZUF2N",
        "outputId": "51c805d5-26e8-4fa6-ea80-4461cbdee55b"
      },
      "source": [
        "import sys\n",
        "import re\n",
        "import math\n",
        "from collections import Counter\n",
        "!pip install pyspark\n",
        "from pyspark import SparkContext, SparkConf\n",
        "from random import randint\n",
        "import shutil\n",
        "# shutil.rmtree('')\n",
        "# !unzip TF_index.zip\n",
        "conf = SparkConf()\n",
        "conf.setMaster('local')\n",
        "conf.setAppName('TF/IDF')\n",
        "sc = SparkContext.getOrCreate(conf=conf)"
      ],
      "execution_count": 1,
      "outputs": [
        {
          "output_type": "stream",
          "text": [
            "Collecting pyspark\n",
            "\u001b[?25l  Downloading https://files.pythonhosted.org/packages/45/b0/9d6860891ab14a39d4bddf80ba26ce51c2f9dc4805e5c6978ac0472c120a/pyspark-3.1.1.tar.gz (212.3MB)\n",
            "\u001b[K     |████████████████████████████████| 212.3MB 71kB/s \n",
            "\u001b[?25hCollecting py4j==0.10.9\n",
            "\u001b[?25l  Downloading https://files.pythonhosted.org/packages/9e/b6/6a4fb90cd235dc8e265a6a2067f2a2c99f0d91787f06aca4bcf7c23f3f80/py4j-0.10.9-py2.py3-none-any.whl (198kB)\n",
            "\u001b[K     |████████████████████████████████| 204kB 18.9MB/s \n",
            "\u001b[?25hBuilding wheels for collected packages: pyspark\n",
            "  Building wheel for pyspark (setup.py) ... \u001b[?25l\u001b[?25hdone\n",
            "  Created wheel for pyspark: filename=pyspark-3.1.1-py2.py3-none-any.whl size=212767604 sha256=010a9871487f38f80a4ba1f7c600a6cb5c7841a00e10df91cab73a976c57369c\n",
            "  Stored in directory: /root/.cache/pip/wheels/0b/90/c0/01de724414ef122bd05f056541fb6a0ecf47c7ca655f8b3c0f\n",
            "Successfully built pyspark\n",
            "Installing collected packages: py4j, pyspark\n",
            "Successfully installed py4j-0.10.9 pyspark-3.1.1\n"
          ],
          "name": "stdout"
        }
      ]
    },
    {
      "cell_type": "code",
      "metadata": {
        "id": "GK0Dfst2TueI"
      },
      "source": [
        "# Read CTF_index\n",
        "# a. Retrieve cosine normalized vector of the query words from CTF_index\n",
        "def st_to_dict(line):\n",
        "  line = line.split(\"@\")\n",
        "  line1 = line[1].split(\"+\")\n",
        "  return (line[0], line[1])\n",
        "\n",
        "\n",
        "# read data\n",
        "# Edit file name to give your input data\n",
        "dataFile = 'CTF_index'\n",
        "# create RDDS, read stopwords file\n",
        "stopWordFile ='stopwords-en.txt'\n",
        "tf_RDD = sc.textFile(dataFile)\n",
        "tf_RDD1 = tf_RDD.map(st_to_dict)\n",
        "# tf_RDD1.take(10)\n",
        "\n",
        "# Calculate N (document size)\n",
        "countRDD2=tf_RDD1.flatMap(lambda x: x[1].split('+'))\n",
        "countRDD2=countRDD2.map(lambda x: (x.split('#')[0],x.split('#')[1]))\n",
        "countRDD = countRDD2.map(lambda x: x).keys().distinct()\n",
        "N = countRDD.count()"
      ],
      "execution_count": 15,
      "outputs": []
    },
    {
      "cell_type": "code",
      "metadata": {
        "id": "Ow4qLss9tSK5"
      },
      "source": [
        "############## Pre process\n",
        "\n",
        "# Remove punctutaion function\n",
        "\n",
        "def lower_clean_str(x):\n",
        "  punc='!\"#$%&\\'()*+,;=?@[]^_`{|}~-'\n",
        "  # punc='!\"#$%&\\'()*+,./:;<=>?@[\\\\]^_`{|}~-'\n",
        "  lowercased_str = x.lower()\n",
        "  for ch in punc:\n",
        "    lowercased_str = lowercased_str.replace(ch, ' ')\n",
        "    lowercased_str = ' '.join(lowercased_str.split())\n",
        "  return lowercased_str\n",
        "\n",
        "def lower_clean_str2(x):\n",
        "  # punc='!\"#$%&\\'()*+,;=?@[]^_`{|}~-'\n",
        "  punc='!\"#$%&\\'()*+,./:;<=>?@[\\\\]^_`{|}~-'\n",
        "  lowercased_str = x.lower()\n",
        "  for ch in punc:\n",
        "    lowercased_str = lowercased_str.replace(ch, ' ')\n",
        "    lowercased_str = ' '.join(lowercased_str.split())\n",
        "  return lowercased_str\n",
        "\n",
        "\n",
        "def remove_urls_tags(x):\n",
        "  regex = r\"(?i)\\b((?:https?://|www\\d{0,3}[.]|[a-z0-9.\\-]+[.][a-z]{2,4}/)(?:[^\\s()<>]+|\\(([^\\s()<>]+|(\\([^\\s()<>]+\\)))*\\))+(?:\\(([^\\s()<>]+|(\\([^\\s()<>]+\\)))*\\)|[^\\s`!()\\[\\]{};:'\\\".,<>?«»“”‘’]))\"\n",
        "  url_str = re.sub(regex, \" \", x)\n",
        "  html_regex = r\"<.*?>\"\n",
        "  finalStr = re.sub(html_regex, \" \", url_str)\n",
        "  return finalStr\n",
        "\n",
        "# Remove stop words function\n",
        "def remove_stop_words(stri):\n",
        "  with open(stopWordFile,'r') as stop:\n",
        "    stop_w = stop.read()\n",
        "    #splitting stopwords.txt by new line\n",
        "    stop_list = re.split('\\n', stop_w)\n",
        "    for word in stop_list:\n",
        "        if word in stri:\n",
        "            stri = stri.replace(\" \"+ word + \" \", \" \")\n",
        "    return stri\n",
        "\n",
        "# Preprocess function\n",
        "def pre_process(fileRDD):\n",
        "  #Run remove punctuation function on data\n",
        "  fileRDD = fileRDD.map(lower_clean_str)\n",
        "  # Remove url_tags\n",
        "  fileRDD = fileRDD.map(remove_urls_tags)\n",
        "  fileRDD = fileRDD.map(lower_clean_str2)\n",
        "  #Remove stop words\n",
        "  fileRDD1 = fileRDD.map(remove_stop_words)\n",
        "  fileRDD1 = fileRDD1.map(lambda line : line.strip())\n",
        "  return fileRDD1"
      ],
      "execution_count": 10,
      "outputs": []
    },
    {
      "cell_type": "code",
      "metadata": {
        "colab": {
          "base_uri": "https://localhost:8080/"
        },
        "id": "N2i79XyisxFj",
        "outputId": "44763358-8c89-42f1-a127-9de71bf2ada1"
      },
      "source": [
        "qids=set()\n",
        "# boolean variable for while check\n",
        "if_query=True\n",
        "\n",
        "#while incoming queries\n",
        "while(if_query):\n",
        "  #user submits a query\n",
        "  qry=input(\"Enter Query\")\n",
        "  a = True\n",
        "  # Generate randome qID\n",
        "  qID=0\n",
        "  while(a):\n",
        "     qID=0\n",
        "     _id=randint(100,999)\n",
        "     if _id not in qids:\n",
        "        qids.add(_id)\n",
        "        a=False\n",
        "        qID=_id\n",
        "  #convert query to RDD\n",
        "  rdd = sc.parallelize([qry])\n",
        "  # all text pre-processing, given in Step-1\n",
        "  prdqry=pre_process(rdd)\n",
        "  words = prdqry.collect()[0].split(\" \")\n",
        "  prdFilter=tf_RDD1.filter(lambda x: str(x[0]) in words)\n",
        "  prdFilter.take(5)\n",
        "  # ///////////////// Calculate IDF\n",
        "  prd3 = prdFilter.map(lambda x : (x[0], len(x[1].split(\"+\"))))\n",
        "  prd3.take(5)\n",
        "  prdIDF=prd3.map(lambda x: (x[0],math.log10(N/(1+x[1]))))\n",
        "  prdIDF.take(25)\n",
        "\n",
        "  # b. Construct TF-IDF (Ct) for each word in the query (NOTE: TF of a word in the query may NOT be always 1). You can calculate IDF and TF-IDF values from CTF_index\n",
        "  #  Calculate TF\n",
        "  tf1=prdFilter.map(lambda x:(x[0], x[1]))\n",
        "  tf2=tf1.map(lambda x:(x[0],x[1].split('+')))\n",
        "  tf2.take(10)\n",
        "  #  Function to break tuple\n",
        "  def break_tup(tp):\n",
        "    res = (tp[0],[(i.split(\"#\")[0], 1+math.log10(float(i.split(\"#\")[1]))) for i in tp[1]])\n",
        "    return res\n",
        "  # Now transform the RDD so that it will be of format: (word, (doc. ID, freq))\n",
        "  tfFinal = tf2.map(break_tup)\n",
        "  tfFinal.take(5)\n",
        "\n",
        "  # TF.IDF Dot product we take join \n",
        "  tfidfJoin = prdIDF.join(tfFinal)\n",
        "  tfidfJoin.take(5)\n",
        "\n",
        "  # dot product (tf*idf)\n",
        "  # c. Perform DOT product on two vectors (Ct and CTFd)\n",
        "  def extract_join(jd):\n",
        "      wrd = jd[0]\n",
        "      idf = jd[1][0]\n",
        "      lis = jd[1][1]\n",
        "      li =[]\n",
        "      for x in lis:\n",
        "        li.append((x[0], ((float)(x[1]) *(float)(idf))))\n",
        "      return li\n",
        "\n",
        "  tfExtr = tfidfJoin.flatMap(extract_join)\n",
        "  tfExtr.take(25)\n",
        "\n",
        "  # sum each vector\n",
        "  # d. Sort the documents in decreasing order of the score and write only top 10 Doc. IDs to qID directory\n",
        "  countRDD = tfExtr.reduceByKey(lambda a,b: a+b).sortBy(lambda a: a[1],ascending=False).map(lambda x : x[0]).take(10)\n",
        "  writeRDD =  sc.parallelize(countRDD)\n",
        "  writeRDD.saveAsTextFile(str(qID))\n",
        "  #  Continue queries ?\n",
        "  nextQR=input('Continue ? Enter Y or N')\n",
        "  if_query = True if (nextQR==\"Y\" or nextQR==\"y\") else False"
      ],
      "execution_count": 12,
      "outputs": [
        {
          "output_type": "stream",
          "text": [
            "Enter QueryParis india-1947\n",
            "Continue ? Enter Y or Nn\n"
          ],
          "name": "stdout"
        }
      ]
    }
  ]
}