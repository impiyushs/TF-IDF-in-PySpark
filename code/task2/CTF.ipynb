{
  "nbformat": 4,
  "nbformat_minor": 0,
  "metadata": {
    "colab": {
      "name": "CTF.ipynb",
      "provenance": []
    },
    "kernelspec": {
      "name": "python3",
      "display_name": "Python 3"
    },
    "language_info": {
      "name": "python"
    }
  },
  "cells": [
    {
      "cell_type": "code",
      "metadata": {
        "id": "kDuI8EwJq_66",
        "colab": {
          "base_uri": "https://localhost:8080/"
        },
        "outputId": "4d3ea874-7637-4016-a5e5-a94a14aad14f"
      },
      "source": [
        "import sys\n",
        "import shutil\n",
        "import re\n",
        "import math\n",
        "from collections import Counter\n",
        "# shutil.rmtree('TF_index')\n",
        "# !zip -r TF_index.zip CTF_index\n",
        "# !unzip TF_index.zip\n",
        "!pip install pyspark\n",
        "from pyspark import SparkContext, SparkConf\n",
        "\n",
        "# create Spark context with necessary configuration\n",
        "conf = SparkConf()\n",
        "conf.setMaster('local')\n",
        "conf.setAppName('TF/IDF')\n",
        "sc = SparkContext.getOrCreate(conf=conf)"
      ],
      "execution_count": 1,
      "outputs": [
        {
          "output_type": "stream",
          "text": [
            "Collecting pyspark\n",
            "\u001b[?25l  Downloading https://files.pythonhosted.org/packages/45/b0/9d6860891ab14a39d4bddf80ba26ce51c2f9dc4805e5c6978ac0472c120a/pyspark-3.1.1.tar.gz (212.3MB)\n",
            "\u001b[K     |████████████████████████████████| 212.3MB 83kB/s \n",
            "\u001b[?25hCollecting py4j==0.10.9\n",
            "\u001b[?25l  Downloading https://files.pythonhosted.org/packages/9e/b6/6a4fb90cd235dc8e265a6a2067f2a2c99f0d91787f06aca4bcf7c23f3f80/py4j-0.10.9-py2.py3-none-any.whl (198kB)\n",
            "\u001b[K     |████████████████████████████████| 204kB 17.5MB/s \n",
            "\u001b[?25hBuilding wheels for collected packages: pyspark\n",
            "  Building wheel for pyspark (setup.py) ... \u001b[?25l\u001b[?25hdone\n",
            "  Created wheel for pyspark: filename=pyspark-3.1.1-py2.py3-none-any.whl size=212767604 sha256=635fbe48faf2ee19b0235483b7ab9db530ebcfe562fc38d675d73b2caaa1e271\n",
            "  Stored in directory: /root/.cache/pip/wheels/0b/90/c0/01de724414ef122bd05f056541fb6a0ecf47c7ca655f8b3c0f\n",
            "Successfully built pyspark\n",
            "Installing collected packages: py4j, pyspark\n",
            "Successfully installed py4j-0.10.9 pyspark-3.1.1\n"
          ],
          "name": "stdout"
        }
      ]
    },
    {
      "cell_type": "code",
      "metadata": {
        "id": "m3wRJSBNxedB"
      },
      "source": [
        "# read data\n",
        "# Edit file name to give your input data\n",
        "dataFile = '2.txt'\n",
        "stopWordFile = 'stopwords-en.txt'\n",
        "# create RDDS, read stopwords file\n",
        "fileRDD = sc.textFile(dataFile)\n"
      ],
      "execution_count": 6,
      "outputs": []
    },
    {
      "cell_type": "code",
      "metadata": {
        "id": "Gk-0ytxepXL-"
      },
      "source": [
        "# Remove punctutaion function\n",
        "\n",
        "def lower_clean_str(x):\n",
        "  punc='!\"#$%&\\'()*+,;=?@[]^_`{|}~-'\n",
        "  # punc='!\"#$%&\\'()*+,./:;<=>?@[\\\\]^_`{|}~-'\n",
        "  lowercased_str = x.lower()\n",
        "  for ch in punc:\n",
        "    lowercased_str = lowercased_str.replace(ch, ' ')\n",
        "    lowercased_str = ' '.join(lowercased_str.split())\n",
        "  return lowercased_str\n",
        "def lower_clean_str1(x):\n",
        "  # punc='!\"#$%&\\'()*+,;=?@[]^_`{|}~-'\n",
        "  punc='!\"#$%&\\'()*+,./:;<=>?@[\\\\]^_`{|}~-'\n",
        "  lowercased_str = x.lower()\n",
        "  for ch in punc:\n",
        "    lowercased_str = lowercased_str.replace(ch, ' ')\n",
        "    lowercased_str = ' '.join(lowercased_str.split())\n",
        "  return lowercased_str\n",
        "\n",
        "#Run remove punctuation function on data\n",
        "fileRDD = sc.textFile(dataFile)\n",
        "fileRDD = fileRDD.map(lower_clean_str)\n"
      ],
      "execution_count": 7,
      "outputs": []
    },
    {
      "cell_type": "code",
      "metadata": {
        "id": "sl4JTP3DqLTe"
      },
      "source": [
        "# Remove urls\n",
        "def remove_urls_tags(x):\n",
        "  regex = r\"(?i)\\b((?:https?://|www\\d{0,3}[.]|[a-z0-9.\\-]+[.][a-z]{2,4}/)(?:[^\\s()<>]+|\\(([^\\s()<>]+|(\\([^\\s()<>]+\\)))*\\))+(?:\\(([^\\s()<>]+|(\\([^\\s()<>]+\\)))*\\)|[^\\s`!()\\[\\]{};:'\\\".,<>?«»“”‘’]))\"\n",
        "  # regex = 'https?://(?:[-\\w.]|(?:%[\\da-fA-F]{2}))+'\n",
        "  url_str = re.sub(regex, \" \", x)\n",
        "  html_regex = r\"<.*?>\"\n",
        "  finalStr = re.sub(html_regex, \" \", url_str)\n",
        "  return finalStr\n",
        "\n",
        "fileRDD = fileRDD.map(remove_urls_tags)\n",
        "fileRDD = fileRDD.map(lower_clean_str1)\n"
      ],
      "execution_count": 8,
      "outputs": []
    },
    {
      "cell_type": "code",
      "metadata": {
        "id": "lhOCrxhW_gWU"
      },
      "source": [
        "# Remove stop words function\n",
        "def remove_stop_words(stri):\n",
        "  with open('stopwords-en.txt','r') as stop:\n",
        "    stop_w = stop.read()\n",
        "    #splitting stopwords.txt by new line\n",
        "    stop_list = re.split('\\n', stop_w)\n",
        "    for word in stop_list:\n",
        "        if word in stri:\n",
        "            stri = stri.replace(\" \"+ word + \" \", \" \")\n",
        "    return stri\n",
        "    \n",
        "fileRDD1 = fileRDD.map(remove_stop_words)\n",
        "fileRDD1 = fileRDD1.map(lambda line : line.strip())\n",
        "# fileRDD1.take(10)\n"
      ],
      "execution_count": 10,
      "outputs": []
    },
    {
      "cell_type": "code",
      "metadata": {
        "id": "oze-gVgYsKdY"
      },
      "source": [
        "def split_file(line):\n",
        "    spl = line.split(\" \", 1)\n",
        "    return (spl[0], spl[1])\n",
        "dfRDD = fileRDD1.map(split_file)\n",
        "# dfRDD.take(10)"
      ],
      "execution_count": 12,
      "outputs": []
    },
    {
      "cell_type": "code",
      "metadata": {
        "id": "EWVQBS9exZ-h"
      },
      "source": [
        "#  Count CTF cosine normalization, construct the above RDD into:\n",
        "# (word, ([(doc-1, normalized_tf), (doc-2, normalized_tf), ...]))\n",
        "def tf_construct(line):\n",
        "    words = [word for word in line[1].split(\" \") if word not in ['']]\n",
        "    counter  = Counter(words)\n",
        "    mul = [(k, v*v) for k, v in counter.items()]\n",
        "    li = [v[1] for v in mul]\n",
        "    eucl=math.sqrt(sum(li))\n",
        "    result = [(k, (str(line[0]) + \"#\"+ str(v/eucl))) for k, v in mul]\n",
        "    return result\n",
        "\n",
        "tf = dfRDD.flatMap(tf_construct)\n",
        "tfReduce = tf.groupByKey().map(lambda x : (x[0]+\"@\"+\"+\".join(list(x[1]))))"
      ],
      "execution_count": 16,
      "outputs": []
    },
    {
      "cell_type": "code",
      "metadata": {
        "id": "1wATd7X30mWh"
      },
      "source": [
        "####################### step 2 output. Write this RDD to CTF_index directory.\n",
        "tfReduce.saveAsTextFile('CTF_index')"
      ],
      "execution_count": 14,
      "outputs": []
    }
  ]
}